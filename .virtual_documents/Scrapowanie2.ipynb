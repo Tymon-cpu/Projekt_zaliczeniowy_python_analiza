import requests
from bs4 import BeautifulSoup
import pandas as pd 
import sqlite3 as db


#https://nofluffjobs.com
def Generowanie_linku(lokalizacja,technologia,doswiadczenie):
    link = f'https://nofluffjobs.com/pl/{lokalizacja}/{technologia}?criteria=seniority%3D{doswiadczenie}'
    return link   
    

strona=Generowanie_linku('krakow','Python','expert')
print(strona)



lokalizacje = ['warszawa','poznan','krakow','wroclaw','gdansk','trojmiasto','katowice','slask','lodz','bialystok',
               'gdynia','lublin','rzeszow','bydgoszcz','gliwice','czestochowa','szczecin','sopot','kielce','torun']

technologie = ['Java','Python','C%23','SQL','C%2B%2B','Golang','JavaScript','React','Angular','TypeScript','HTML']

doswiadczenia = ['trainee','junior','mid','senior','expert']


do_linkow = []
for item_t in technologie:
    for item_d in doswiadczenia:
        for item_l in lokalizacje:
            lista = [item_t,item_d,item_l]
            do_linkow.append(lista)


len(do_linkow)


lista_linkow = []
for i in do_linkow:
    link = Generowanie_linku(i[2],i[0],i[1])
    lista_linkow.append(link) 


len(lista_linkow)


def Zbieranie_danych_z_linku(link):
    resp = requests.get(link)
    page = resp.text
    soup = BeautifulSoup(page, 'html.parser')
    posting_list = soup.find_all('nfj-postings-list')
    name_list = []
    salary_list = []
    for item_p_l in posting_list:
        if item_p_l.get('listname') == 'search':
            oferts = item_p_l.find_all('aside')
            for i in range(0,len(oferts),2):
                for j in oferts[i].find_all('h3'):
                    if j.get('data-cy') == 'title position on the job offer listing':
                        name = j.text.split('NOWA')[0]
                        name_list.append(name)
                for j in  oferts[i].find_all('span'):
                    if j.get('data-cy') == "salary ranges on the job offer listing":
                        salary = j.text.replace('\xa0','').replace(' ','').replace('PLN\n','')
                        salary_list.append(salary)
    return name_list, salary_list


nazwy = []
wyplaty = []
technologia = []
doswiadczenie = []
lokalizacja = []
x = 0
for link1 in lista_linkow:
    dane1 = Zbieranie_danych_z_linku(link1)
    nazwy_z_linku = dane1[0]
    wyplaty_z_linku = dane1[1]
    for nazwa in nazwy_z_linku:
        nazwy.append(nazwa)
    for wyplata in wyplaty_z_linku:
        wyplaty.append(wyplata)
        technologia.append(do_linkow[x][0])
        doswiadczenie.append(do_linkow[x][1])
        lokalizacja.append(do_linkow[x][2])
    x += 1


dane = {'Nazwa':nazwy,'Technologia':technologia,'Doświadczenie':doswiadczenie,'Lokalizacja':lokalizacja,'Wypłata':wyplaty}
df = pd.DataFrame(dane)


df


conn = db.connect('IT_Wynagrodzenia')
df.to_sql('IT_praca_wynagrodzenie', conn, if_exists='replace', index=False)


conn.close()
