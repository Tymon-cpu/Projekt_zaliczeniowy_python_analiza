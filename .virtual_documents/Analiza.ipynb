import sqlalchemy as sql
import pandas as pd


engine = sql.create_engine('sqlite:///IT_Wynagrodzenia', echo = True)


with engine.connect() as connection:
    result = connection.execute(sql.text("SELECT * FROM IT_praca_wynagrodzenie"))


df = pd.DataFrame(result)
df
