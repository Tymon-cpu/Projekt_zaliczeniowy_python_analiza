import sqlalchemy as sql
import pandas as pd
import sqlite3 as db
import matplotlib.pyplot as plt
import numpy as np
from scipy import stats


engine = sql.create_engine('sqlite:///IT_Wynagrodzenia', echo = True)


with engine.connect() as connection:
    result = connection.execute(sql.text("SELECT * FROM IT_praca_wynagrodzenie"))


df = pd.DataFrame(result)
df


df = df.loc[~df['Wypłata'].isin(['bezpłatnystaż\n','Sprawdźzarobki','SprawdźSalaryMatch'])]


df.info()


df['Technologia'] = df['Technologia'].replace('C%2B%2B','C++')
df['Technologia'] = df['Technologia'].replace('C%23','C#')


dol_przedzialu_wyplaty = []
gora_przedzialu_wyplaty = []
for i in df['Wypłata']:
    x = i.split('–')
    if len(x) == 2:
        dol_przedzialu_wyplaty.append(int(x[0]))
        gora_przedzialu_wyplaty.append(int(x[1]))
    elif len(x) == 1:
        dol_przedzialu_wyplaty.append(int(x[0]))
        gora_przedzialu_wyplaty.append(int(x[0]))
df['minimalna_pensja'] = dol_przedzialu_wyplaty
df['maksymalna_pensja'] = gora_przedzialu_wyplaty


srednia_wyplata = []
for i in df['Wypłata']:
    x = i.split('–')
    if len(x) == 2:
        srednia = (int(x[0]) + int(x[1]))/2
        srednia_wyplata.append(srednia)
    elif len(x) == 1:
        srednia_wyplata.append(int(x[0]))
        
df['Średnia_wyplata'] = srednia_wyplata


df


conn = db.connect('IT_Wynagrodzenia_oczyszczone')
df.to_sql('IT_praca_wynagrodzenie', conn, if_exists='replace', index=False)


conn.close()


engine = sql.create_engine('sqlite:///IT_Wynagrodzenia_oczyszczone', echo = True)


with engine.connect() as connection:
    result = connection.execute(sql.text("SELECT * FROM IT_praca_wynagrodzenie"))


df = pd.DataFrame(result)
df


popularnosc = df.groupby('Technologia')[['minimalna_pensja','maksymalna_pensja','Średnia_wyplata']].agg(['min','max','mean','count'])
popularnosc


fig, ax = plt.subplots(3,1,figsize=(10,20))
ax[0].bar(popularnosc.index, popularnosc['maksymalna_pensja']['count'], color = 'lightblue')
ax[0].set_title('Wykres popularności danej technologi')
ax[0].set_xlabel('Technologie')
ax[0].set_ylabel('Ilość ofert')

ax[1].bar(popularnosc.index, popularnosc['maksymalna_pensja']['mean'], color = 'green', label='średni górny przedział')
ax[1].bar(popularnosc.index, popularnosc['minimalna_pensja']['mean'], color = 'red', label='średni dolny przedział')
ax[1].set_title('Średnie przedziały zarobków ')
ax[1].set_xlabel('Technologie')
ax[1].set_ylabel('Zarobki w [zł]')
ax[1].legend()

ax[2].bar(popularnosc.index, popularnosc['Średnia_wyplata']['mean'], color = 'blue')
ax[2].set_title('Średnia uśrednionej wypłaty')
ax[2].set_xlabel('Technologie')
ax[2].set_ylabel('Zarobki w [zł]')



#najwiekszą liczbą ofert pracy cieszy się SQL, inaczej kształtują się zarobki średnio najwiecej zarabia się używajac Golang i Python. Średnio najmniej natomiast używając HTML i C#


df['Doświadczenie'].value_counts()


stats.kruskal(df[df['Doświadczenie']=='trainee']['Średnia_wyplata'],
             df[df['Doświadczenie']=='junior']['Średnia_wyplata'],
             df[df['Doświadczenie']=='mid']['Średnia_wyplata'],
             df[df['Doświadczenie']=='senior']['Średnia_wyplata'],
             df[df['Doświadczenie']=='expert']['Średnia_wyplata'])


#grupy różnią się znacząco od siebie pod względem zarobków


rangi = []
for i in df['Doświadczenie']:
    if i == 'trainee':
        rangi.append(1)
    elif i == 'junior':
        rangi.append(2)
    elif i == 'mid':
        rangi.append(3)
    elif i == 'senior':
        rangi.append(4)
    elif i == 'expert':
        rangi.append(5)
df['Rangi'] = rangi
df


df['Średnia_wyplata'].corr(df['Rangi'])


#dodatnia korelacja na poziomie 63% 


doswiadczenie = df.groupby('Doświadczenie')[['Średnia_wyplata','Rangi']].agg('mean').sort_values('Rangi')
doswiadczenie


plt.bar(doswiadczenie.index, doswiadczenie['Średnia_wyplata'])
plt.xlabel('Doświadczenie')
plt.ylabel('Średnia wypłata')


#wraz ze wzrostem doświadczenia rośnie średnia wypłata


Lokalizacja = df.groupby('Lokalizacja')['Średnia_wyplata'].agg('mean').sort_values()
Lokalizacja


plt.figure(figsize = (20,6))
plt.bar(Lokalizacja.index, Lokalizacja)
plt.xlabel('Lokalizacja')
plt.ylabel('Średnia wypłata')


lokalizacja_technologia = df.groupby(['Lokalizacja','Technologia'])['Technologia'].agg('count').sort_values()
lokalizacja_technologia[lokalizacja_technologia > 30]
