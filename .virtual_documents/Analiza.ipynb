import sqlalchemy as sql
import pandas as pd


engine = sql.create_engine('sqlite:///IT_Wynagrodzenia', echo = True)


with engine.connect() as connection:
    result = connection.execute(sql.text("SELECT * FROM IT_praca_wynagrodzenie"))


df = pd.DataFrame(result)
df


df = df.loc[~df['Wypłata'].isin(['bezpłatnystaż\n','Sprawdźzarobki','SprawdźSalaryMatch'])]


df.info()


dol_przedzialu_wyplaty = []
gora_przedzialu_wyplaty = []
for i in df['Wypłata']:
    x = i.split('–')
    if len(x) == 2:
        dol_przedzialu_wyplaty.append(int(x[0]))
        gora_przedzialu_wyplaty.append(int(x[1]))
    elif len(x) == 1:
        dol_przedzialu_wyplaty.append(int(x[0]))
        gora_przedzialu_wyplaty.append(int(x[0]))
df['minimalna_pensja'] = dol_przedzialu_wyplaty
df['maksymalna_pensja'] = gora_przedzialu_wyplaty


df
