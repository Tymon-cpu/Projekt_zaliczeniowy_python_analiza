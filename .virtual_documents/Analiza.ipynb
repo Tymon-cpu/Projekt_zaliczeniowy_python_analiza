import sqlalchemy as sql
import pandas as pd
import sqlite3 as db


engine = sql.create_engine('sqlite:///IT_Wynagrodzenia', echo = True)


with engine.connect() as connection:
    result = connection.execute(sql.text("SELECT * FROM IT_praca_wynagrodzenie"))


df = pd.DataFrame(result)
df


df = df.loc[~df['Wypłata'].isin(['bezpłatnystaż\n','Sprawdźzarobki','SprawdźSalaryMatch'])]


df.info()


dol_przedzialu_wyplaty = []
gora_przedzialu_wyplaty = []
for i in df['Wypłata']:
    x = i.split('–')
    if len(x) == 2:
        dol_przedzialu_wyplaty.append(int(x[0]))
        gora_przedzialu_wyplaty.append(int(x[1]))
    elif len(x) == 1:
        dol_przedzialu_wyplaty.append(int(x[0]))
        gora_przedzialu_wyplaty.append(int(x[0]))
df['minimalna_pensja'] = dol_przedzialu_wyplaty
df['maksymalna_pensja'] = gora_przedzialu_wyplaty


df


conn = db.connect('IT_Wynagrodzenia')
df.to_sql('IT_praca_wynagrodzenie', conn, if_exists='replace', index=True)


conn.close()


engine = sql.create_engine('sqlite:///IT_Wynagrodzenia', echo = True)


with engine.connect() as connection:
    result = connection.execute(sql.text("SELECT * FROM IT_praca_wynagrodzenie"))


df = pd.DataFrame(result)
df
