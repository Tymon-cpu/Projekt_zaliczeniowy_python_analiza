import sqlalchemy as sql
import pandas as pd
import sqlite3 as sql3


engine = sql.create_engine('sqlite:///IT_Wynagrodzenia', echo = True)


#conn = sql3.connect('IT_Wynagrodzenia')


#df = pd.read_sql_query('SELECT*FROM IT_praca_wynagrodzenie', conn)


#conn.close()


#df


with engine.connect() as connection:
    result = connection.execute("SELECT * FROM IT_praca_wynagrodzenie")



