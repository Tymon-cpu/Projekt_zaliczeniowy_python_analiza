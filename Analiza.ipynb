{
 "cells": [
  {
   "cell_type": "code",
   "execution_count": 1,
   "id": "12157165-dd69-436a-a8d8-6da16c9f5228",
   "metadata": {},
   "outputs": [],
   "source": [
    "import sqlalchemy as sql\n",
    "import pandas as pd"
   ]
  },
  {
   "cell_type": "code",
   "execution_count": 2,
   "id": "bd0703e3-1cec-4bcb-8e20-321fa74e2d58",
   "metadata": {},
   "outputs": [],
   "source": [
    "engine = sql.create_engine('sqlite:///IT_Wynagrodzenia', echo = True)"
   ]
  },
  {
   "cell_type": "code",
   "execution_count": 3,
   "id": "30aa9e2b-c153-4753-8601-f4c9be671822",
   "metadata": {},
   "outputs": [
    {
     "name": "stdout",
     "output_type": "stream",
     "text": [
      "2025-01-12 11:48:09,083 INFO sqlalchemy.engine.Engine BEGIN (implicit)\n",
      "2025-01-12 11:48:09,084 INFO sqlalchemy.engine.Engine SELECT * FROM IT_praca_wynagrodzenie\n",
      "2025-01-12 11:48:09,085 INFO sqlalchemy.engine.Engine [generated in 0.00319s] ()\n",
      "2025-01-12 11:48:09,087 INFO sqlalchemy.engine.Engine ROLLBACK\n"
     ]
    }
   ],
   "source": [
    "with engine.connect() as connection:\n",
    "    result = connection.execute(sql.text(\"SELECT * FROM IT_praca_wynagrodzenie\"))"
   ]
  },
  {
   "cell_type": "code",
   "execution_count": 4,
   "id": "ab111ab5-bef1-40bc-98bf-32f44a583080",
   "metadata": {},
   "outputs": [
    {
     "data": {
      "text/html": [
       "<div>\n",
       "<style scoped>\n",
       "    .dataframe tbody tr th:only-of-type {\n",
       "        vertical-align: middle;\n",
       "    }\n",
       "\n",
       "    .dataframe tbody tr th {\n",
       "        vertical-align: top;\n",
       "    }\n",
       "\n",
       "    .dataframe thead th {\n",
       "        text-align: right;\n",
       "    }\n",
       "</style>\n",
       "<table border=\"1\" class=\"dataframe\">\n",
       "  <thead>\n",
       "    <tr style=\"text-align: right;\">\n",
       "      <th></th>\n",
       "      <th>index</th>\n",
       "      <th>Nazwa</th>\n",
       "      <th>Technologia</th>\n",
       "      <th>Doświadczenie</th>\n",
       "      <th>Lokalizacja</th>\n",
       "      <th>Wypłata</th>\n",
       "    </tr>\n",
       "  </thead>\n",
       "  <tbody>\n",
       "    <tr>\n",
       "      <th>0</th>\n",
       "      <td>0</td>\n",
       "      <td>Trainee Java Developer</td>\n",
       "      <td>Java</td>\n",
       "      <td>trainee</td>\n",
       "      <td>warszawa</td>\n",
       "      <td>bezpłatnystaż\\n</td>\n",
       "    </tr>\n",
       "    <tr>\n",
       "      <th>1</th>\n",
       "      <td>1</td>\n",
       "      <td>Projektowanie / ilustracja / grafika</td>\n",
       "      <td>Java</td>\n",
       "      <td>trainee</td>\n",
       "      <td>warszawa</td>\n",
       "      <td>2800–5000</td>\n",
       "    </tr>\n",
       "    <tr>\n",
       "      <th>2</th>\n",
       "      <td>2</td>\n",
       "      <td>Projektowanie / ilustracja / grafika</td>\n",
       "      <td>Java</td>\n",
       "      <td>trainee</td>\n",
       "      <td>warszawa</td>\n",
       "      <td>2800–5000</td>\n",
       "    </tr>\n",
       "    <tr>\n",
       "      <th>3</th>\n",
       "      <td>3</td>\n",
       "      <td>Projektowanie / ilustracja / grafika</td>\n",
       "      <td>Java</td>\n",
       "      <td>trainee</td>\n",
       "      <td>krakow</td>\n",
       "      <td>2800–5000</td>\n",
       "    </tr>\n",
       "    <tr>\n",
       "      <th>4</th>\n",
       "      <td>4</td>\n",
       "      <td>Projektowanie / ilustracja / grafika</td>\n",
       "      <td>Java</td>\n",
       "      <td>trainee</td>\n",
       "      <td>krakow</td>\n",
       "      <td>2800–5000</td>\n",
       "    </tr>\n",
       "    <tr>\n",
       "      <th>...</th>\n",
       "      <td>...</td>\n",
       "      <td>...</td>\n",
       "      <td>...</td>\n",
       "      <td>...</td>\n",
       "      <td>...</td>\n",
       "      <td>...</td>\n",
       "    </tr>\n",
       "    <tr>\n",
       "      <th>2714</th>\n",
       "      <td>2714</td>\n",
       "      <td>Senior Software Developer</td>\n",
       "      <td>HTML</td>\n",
       "      <td>senior</td>\n",
       "      <td>szczecin</td>\n",
       "      <td>18480–30240</td>\n",
       "    </tr>\n",
       "    <tr>\n",
       "      <th>2715</th>\n",
       "      <td>2715</td>\n",
       "      <td>Head of SEO</td>\n",
       "      <td>HTML</td>\n",
       "      <td>expert</td>\n",
       "      <td>warszawa</td>\n",
       "      <td>12000–14000</td>\n",
       "    </tr>\n",
       "    <tr>\n",
       "      <th>2716</th>\n",
       "      <td>2716</td>\n",
       "      <td>Product Designer (UX/UI)</td>\n",
       "      <td>HTML</td>\n",
       "      <td>expert</td>\n",
       "      <td>poznan</td>\n",
       "      <td>18000–28000</td>\n",
       "    </tr>\n",
       "    <tr>\n",
       "      <th>2717</th>\n",
       "      <td>2717</td>\n",
       "      <td>Senior Full-stack Developer (Angular/C++)</td>\n",
       "      <td>HTML</td>\n",
       "      <td>expert</td>\n",
       "      <td>krakow</td>\n",
       "      <td>18000–23000</td>\n",
       "    </tr>\n",
       "    <tr>\n",
       "      <th>2718</th>\n",
       "      <td>2718</td>\n",
       "      <td>Technical Leader / Staff Engineer (Angular)</td>\n",
       "      <td>HTML</td>\n",
       "      <td>expert</td>\n",
       "      <td>krakow</td>\n",
       "      <td>Sprawdźzarobki</td>\n",
       "    </tr>\n",
       "  </tbody>\n",
       "</table>\n",
       "<p>2719 rows × 6 columns</p>\n",
       "</div>"
      ],
      "text/plain": [
       "      index                                          Nazwa Technologia  \\\n",
       "0         0                       Trainee Java Developer          Java   \n",
       "1         1          Projektowanie / ilustracja / grafika         Java   \n",
       "2         2          Projektowanie / ilustracja / grafika         Java   \n",
       "3         3          Projektowanie / ilustracja / grafika         Java   \n",
       "4         4          Projektowanie / ilustracja / grafika         Java   \n",
       "...     ...                                            ...         ...   \n",
       "2714   2714                    Senior Software Developer          HTML   \n",
       "2715   2715                                   Head of SEO         HTML   \n",
       "2716   2716                      Product Designer (UX/UI)         HTML   \n",
       "2717   2717    Senior Full-stack Developer (Angular/C++)          HTML   \n",
       "2718   2718   Technical Leader / Staff Engineer (Angular)         HTML   \n",
       "\n",
       "     Doświadczenie Lokalizacja          Wypłata  \n",
       "0          trainee    warszawa  bezpłatnystaż\\n  \n",
       "1          trainee    warszawa        2800–5000  \n",
       "2          trainee    warszawa        2800–5000  \n",
       "3          trainee      krakow        2800–5000  \n",
       "4          trainee      krakow        2800–5000  \n",
       "...            ...         ...              ...  \n",
       "2714        senior    szczecin      18480–30240  \n",
       "2715        expert    warszawa      12000–14000  \n",
       "2716        expert      poznan      18000–28000  \n",
       "2717        expert      krakow      18000–23000  \n",
       "2718        expert      krakow   Sprawdźzarobki  \n",
       "\n",
       "[2719 rows x 6 columns]"
      ]
     },
     "execution_count": 4,
     "metadata": {},
     "output_type": "execute_result"
    }
   ],
   "source": [
    "df = pd.DataFrame(result)\n",
    "df"
   ]
  },
  {
   "cell_type": "code",
   "execution_count": 25,
   "id": "772c52b4-ae21-4f86-817d-80da3c511605",
   "metadata": {},
   "outputs": [],
   "source": [
    "df = df[~df['Wypłata'].isin(['bezpłatnystaż\\n','Sprawdźzarobki','SprawdźSalaryMatch'])]"
   ]
  },
  {
   "cell_type": "code",
   "execution_count": 8,
   "id": "38296ea8-ea1d-4ace-a064-ae6f5fe40c45",
   "metadata": {},
   "outputs": [
    {
     "name": "stdout",
     "output_type": "stream",
     "text": [
      "<class 'pandas.core.frame.DataFrame'>\n",
      "Index: 2424 entries, 1 to 2717\n",
      "Data columns (total 6 columns):\n",
      " #   Column         Non-Null Count  Dtype \n",
      "---  ------         --------------  ----- \n",
      " 0   index          2424 non-null   int64 \n",
      " 1   Nazwa          2424 non-null   object\n",
      " 2   Technologia    2424 non-null   object\n",
      " 3   Doświadczenie  2424 non-null   object\n",
      " 4   Lokalizacja    2424 non-null   object\n",
      " 5   Wypłata        2424 non-null   object\n",
      "dtypes: int64(1), object(5)\n",
      "memory usage: 132.6+ KB\n"
     ]
    }
   ],
   "source": [
    "df.info()"
   ]
  },
  {
   "cell_type": "code",
   "execution_count": 26,
   "id": "9118ba83-9a72-40f6-91ed-15752f54454b",
   "metadata": {
    "scrolled": true
   },
   "outputs": [
    {
     "name": "stderr",
     "output_type": "stream",
     "text": [
      "C:\\Users\\ja\\AppData\\Local\\Temp\\ipykernel_6024\\3157492897.py:11: SettingWithCopyWarning: \n",
      "A value is trying to be set on a copy of a slice from a DataFrame.\n",
      "Try using .loc[row_indexer,col_indexer] = value instead\n",
      "\n",
      "See the caveats in the documentation: https://pandas.pydata.org/pandas-docs/stable/user_guide/indexing.html#returning-a-view-versus-a-copy\n",
      "  df['minimalna_pensja'] = dol_przedzialu_wyplaty\n",
      "C:\\Users\\ja\\AppData\\Local\\Temp\\ipykernel_6024\\3157492897.py:12: SettingWithCopyWarning: \n",
      "A value is trying to be set on a copy of a slice from a DataFrame.\n",
      "Try using .loc[row_indexer,col_indexer] = value instead\n",
      "\n",
      "See the caveats in the documentation: https://pandas.pydata.org/pandas-docs/stable/user_guide/indexing.html#returning-a-view-versus-a-copy\n",
      "  df['maksymalna_pensja'] = gora_przedzialu_wyplaty\n"
     ]
    }
   ],
   "source": [
    "dol_przedzialu_wyplaty = []\n",
    "gora_przedzialu_wyplaty = []\n",
    "for i in df['Wypłata']:\n",
    "    x = i.split('–')\n",
    "    if len(x) == 2:\n",
    "        dol_przedzialu_wyplaty.append(int(x[0]))\n",
    "        gora_przedzialu_wyplaty.append(int(x[1]))\n",
    "    elif len(x) == 1:\n",
    "        dol_przedzialu_wyplaty.append(int(x[0]))\n",
    "        gora_przedzialu_wyplaty.append(int(x[0]))\n",
    "df['minimalna_pensja'] = dol_przedzialu_wyplaty\n",
    "df['maksymalna_pensja'] = gora_przedzialu_wyplaty"
   ]
  },
  {
   "cell_type": "code",
   "execution_count": null,
   "id": "e46442a3-70c4-4c85-a72a-b9ed580e5fb5",
   "metadata": {},
   "outputs": [],
   "source": []
  }
 ],
 "metadata": {
  "kernelspec": {
   "display_name": "Python 3 (ipykernel)",
   "language": "python",
   "name": "python3"
  },
  "language_info": {
   "codemirror_mode": {
    "name": "ipython",
    "version": 3
   },
   "file_extension": ".py",
   "mimetype": "text/x-python",
   "name": "python",
   "nbconvert_exporter": "python",
   "pygments_lexer": "ipython3",
   "version": "3.12.4"
  }
 },
 "nbformat": 4,
 "nbformat_minor": 5
}
