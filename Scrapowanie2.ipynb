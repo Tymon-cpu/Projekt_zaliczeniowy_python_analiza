{
 "cells": [
  {
   "cell_type": "code",
   "execution_count": 12,
   "id": "1c3237f9-d3c7-4612-99cb-d4fab923d0f4",
   "metadata": {},
   "outputs": [],
   "source": [
    "import requests\n",
    "from bs4 import BeautifulSoup\n",
    "import pandas as pd \n",
    "import sqlite3 as db"
   ]
  },
  {
   "cell_type": "code",
   "execution_count": 2,
   "id": "ea1f48fc-0c56-4dc9-a062-b28fc3285e86",
   "metadata": {
    "scrolled": true,
    "tags": []
   },
   "outputs": [
    {
     "name": "stdout",
     "output_type": "stream",
     "text": [
      "https://nofluffjobs.com/pl/krakow/Python?criteria=seniority%3Dexpert\n"
     ]
    }
   ],
   "source": [
    "#https://nofluffjobs.com\n",
    "def Generowanie_linku(lokalizacja,technologia,doswiadczenie):\n",
    "    link = f'https://nofluffjobs.com/pl/{lokalizacja}/{technologia}?criteria=seniority%3D{doswiadczenie}'\n",
    "    return link   \n",
    "    \n",
    "\n",
    "strona=Generowanie_linku('krakow','Python','expert')\n",
    "print(strona)\n"
   ]
  },
  {
   "cell_type": "code",
   "execution_count": 3,
   "id": "b723ea40-407d-4931-935d-c80a852d916b",
   "metadata": {
    "tags": []
   },
   "outputs": [],
   "source": [
    "lokalizacje = ['warszawa','poznan','krakow','wroclaw','gdansk','trojmiasto','katowice','slask','lodz','bialystok',\n",
    "               'gdynia','lublin','rzeszow','bydgoszcz','gliwice','czestochowa','szczecin','sopot','kielce','torun']\n",
    "\n",
    "technologie = ['Java','Python','C%23','SQL','C%2B%2B','Golang','JavaScript','React','Angular','TypeScript','HTML']\n",
    "\n",
    "doswiadczenia = ['trainee','junior','mid','senior','expert']"
   ]
  },
  {
   "cell_type": "code",
   "execution_count": 4,
   "id": "595776c5-03ac-4771-af77-e669e33bcce0",
   "metadata": {
    "tags": []
   },
   "outputs": [],
   "source": [
    "do_linkow = []\n",
    "for item_t in technologie:\n",
    "    for item_d in doswiadczenia:\n",
    "        for item_l in lokalizacje:\n",
    "            lista = [item_t,item_d,item_l]\n",
    "            do_linkow.append(lista)"
   ]
  },
  {
   "cell_type": "code",
   "execution_count": 5,
   "id": "10305c08-d84f-4daf-aeef-4891cfb93d55",
   "metadata": {
    "scrolled": true,
    "tags": []
   },
   "outputs": [
    {
     "data": {
      "text/plain": [
       "1100"
      ]
     },
     "execution_count": 5,
     "metadata": {},
     "output_type": "execute_result"
    }
   ],
   "source": [
    "len(do_linkow)"
   ]
  },
  {
   "cell_type": "code",
   "execution_count": 6,
   "id": "fa044147-800a-4b34-b5d7-828ae5181e61",
   "metadata": {},
   "outputs": [],
   "source": [
    "lista_linkow = []\n",
    "for i in do_linkow:\n",
    "    link = Generowanie_linku(i[2],i[0],i[1])\n",
    "    lista_linkow.append(link) "
   ]
  },
  {
   "cell_type": "code",
   "execution_count": 7,
   "id": "9fdb73ea-f422-4d6b-a3a1-db09c7566bba",
   "metadata": {
    "scrolled": true
   },
   "outputs": [
    {
     "data": {
      "text/plain": [
       "1100"
      ]
     },
     "execution_count": 7,
     "metadata": {},
     "output_type": "execute_result"
    }
   ],
   "source": [
    "len(lista_linkow)"
   ]
  },
  {
   "cell_type": "code",
   "execution_count": 8,
   "id": "77f897f7-042e-480c-a662-fe98cdee455a",
   "metadata": {},
   "outputs": [],
   "source": [
    "def Zbieranie_danych_z_linku(link):\n",
    "    resp = requests.get(link)\n",
    "    page = resp.text\n",
    "    soup = BeautifulSoup(page, 'html.parser')\n",
    "    posting_list = soup.find_all('nfj-postings-list')\n",
    "    name_list = []\n",
    "    salary_list = []\n",
    "    for item_p_l in posting_list:\n",
    "        if item_p_l.get('listname') == 'search':\n",
    "            oferts = item_p_l.find_all('aside')\n",
    "            for i in range(0,len(oferts),2):\n",
    "                for j in oferts[i].find_all('h3'):\n",
    "                    if j.get('data-cy') == 'title position on the job offer listing':\n",
    "                        name = j.text.split('NOWA')[0]\n",
    "                        name_list.append(name)\n",
    "                for j in  oferts[i].find_all('span'):\n",
    "                    if j.get('data-cy') == \"salary ranges on the job offer listing\":\n",
    "                        salary = j.text.replace('\\xa0','').replace(' ','').replace('PLN\\n','')\n",
    "                        salary_list.append(salary)\n",
    "    return name_list, salary_list"
   ]
  },
  {
   "cell_type": "code",
   "execution_count": 9,
   "id": "49971743-3227-4222-a109-97807581e470",
   "metadata": {},
   "outputs": [],
   "source": [
    "nazwy = []\n",
    "wyplaty = []\n",
    "technologia = []\n",
    "doswiadczenie = []\n",
    "lokalizacja = []\n",
    "x = 0\n",
    "for link1 in lista_linkow:\n",
    "    dane1 = Zbieranie_danych_z_linku(link1)\n",
    "    nazwy_z_linku = dane1[0]\n",
    "    wyplaty_z_linku = dane1[1]\n",
    "    for nazwa in nazwy_z_linku:\n",
    "        nazwy.append(nazwa)\n",
    "    for wyplata in wyplaty_z_linku:\n",
    "        wyplaty.append(wyplata)\n",
    "        technologia.append(do_linkow[x][0])\n",
    "        doswiadczenie.append(do_linkow[x][1])\n",
    "        lokalizacja.append(do_linkow[x][2])\n",
    "    x += 1"
   ]
  },
  {
   "cell_type": "code",
   "execution_count": 10,
   "id": "a73efa7d-56ff-4036-aedb-a07b5b12fc4a",
   "metadata": {},
   "outputs": [],
   "source": [
    "dane = {'Nazwa':nazwy,'Technologia':technologia,'Doświadczenie':doswiadczenie,'Lokalizacja':lokalizacja,'Wypłata':wyplaty}\n",
    "df = pd.DataFrame(dane)"
   ]
  },
  {
   "cell_type": "code",
   "execution_count": 11,
   "id": "a8a84b38-9676-4b44-b057-7f032a9bac8f",
   "metadata": {},
   "outputs": [
    {
     "data": {
      "text/html": [
       "<div>\n",
       "<style scoped>\n",
       "    .dataframe tbody tr th:only-of-type {\n",
       "        vertical-align: middle;\n",
       "    }\n",
       "\n",
       "    .dataframe tbody tr th {\n",
       "        vertical-align: top;\n",
       "    }\n",
       "\n",
       "    .dataframe thead th {\n",
       "        text-align: right;\n",
       "    }\n",
       "</style>\n",
       "<table border=\"1\" class=\"dataframe\">\n",
       "  <thead>\n",
       "    <tr style=\"text-align: right;\">\n",
       "      <th></th>\n",
       "      <th>Nazwa</th>\n",
       "      <th>Technologia</th>\n",
       "      <th>Doświadczenie</th>\n",
       "      <th>Lokalizacja</th>\n",
       "      <th>Wypłata</th>\n",
       "    </tr>\n",
       "  </thead>\n",
       "  <tbody>\n",
       "    <tr>\n",
       "      <th>0</th>\n",
       "      <td>Trainee Java Developer</td>\n",
       "      <td>Java</td>\n",
       "      <td>trainee</td>\n",
       "      <td>warszawa</td>\n",
       "      <td>bezpłatnystaż\\n</td>\n",
       "    </tr>\n",
       "    <tr>\n",
       "      <th>1</th>\n",
       "      <td>Projektowanie / ilustracja / grafika</td>\n",
       "      <td>Java</td>\n",
       "      <td>trainee</td>\n",
       "      <td>warszawa</td>\n",
       "      <td>2800–5000</td>\n",
       "    </tr>\n",
       "    <tr>\n",
       "      <th>2</th>\n",
       "      <td>Projektowanie / ilustracja / grafika</td>\n",
       "      <td>Java</td>\n",
       "      <td>trainee</td>\n",
       "      <td>warszawa</td>\n",
       "      <td>2800–5000</td>\n",
       "    </tr>\n",
       "    <tr>\n",
       "      <th>3</th>\n",
       "      <td>Projektowanie / ilustracja / grafika</td>\n",
       "      <td>Java</td>\n",
       "      <td>trainee</td>\n",
       "      <td>krakow</td>\n",
       "      <td>2800–5000</td>\n",
       "    </tr>\n",
       "    <tr>\n",
       "      <th>4</th>\n",
       "      <td>Projektowanie / ilustracja / grafika</td>\n",
       "      <td>Java</td>\n",
       "      <td>trainee</td>\n",
       "      <td>krakow</td>\n",
       "      <td>2800–5000</td>\n",
       "    </tr>\n",
       "    <tr>\n",
       "      <th>...</th>\n",
       "      <td>...</td>\n",
       "      <td>...</td>\n",
       "      <td>...</td>\n",
       "      <td>...</td>\n",
       "      <td>...</td>\n",
       "    </tr>\n",
       "    <tr>\n",
       "      <th>2714</th>\n",
       "      <td>Senior Software Developer</td>\n",
       "      <td>HTML</td>\n",
       "      <td>senior</td>\n",
       "      <td>szczecin</td>\n",
       "      <td>18480–30240</td>\n",
       "    </tr>\n",
       "    <tr>\n",
       "      <th>2715</th>\n",
       "      <td>Head of SEO</td>\n",
       "      <td>HTML</td>\n",
       "      <td>expert</td>\n",
       "      <td>warszawa</td>\n",
       "      <td>12000–14000</td>\n",
       "    </tr>\n",
       "    <tr>\n",
       "      <th>2716</th>\n",
       "      <td>Product Designer (UX/UI)</td>\n",
       "      <td>HTML</td>\n",
       "      <td>expert</td>\n",
       "      <td>poznan</td>\n",
       "      <td>18000–28000</td>\n",
       "    </tr>\n",
       "    <tr>\n",
       "      <th>2717</th>\n",
       "      <td>Senior Full-stack Developer (Angular/C++)</td>\n",
       "      <td>HTML</td>\n",
       "      <td>expert</td>\n",
       "      <td>krakow</td>\n",
       "      <td>18000–23000</td>\n",
       "    </tr>\n",
       "    <tr>\n",
       "      <th>2718</th>\n",
       "      <td>Technical Leader / Staff Engineer (Angular)</td>\n",
       "      <td>HTML</td>\n",
       "      <td>expert</td>\n",
       "      <td>krakow</td>\n",
       "      <td>Sprawdźzarobki</td>\n",
       "    </tr>\n",
       "  </tbody>\n",
       "</table>\n",
       "<p>2719 rows × 5 columns</p>\n",
       "</div>"
      ],
      "text/plain": [
       "                                              Nazwa Technologia Doświadczenie  \\\n",
       "0                          Trainee Java Developer          Java       trainee   \n",
       "1             Projektowanie / ilustracja / grafika         Java       trainee   \n",
       "2             Projektowanie / ilustracja / grafika         Java       trainee   \n",
       "3             Projektowanie / ilustracja / grafika         Java       trainee   \n",
       "4             Projektowanie / ilustracja / grafika         Java       trainee   \n",
       "...                                             ...         ...           ...   \n",
       "2714                    Senior Software Developer          HTML        senior   \n",
       "2715                                   Head of SEO         HTML        expert   \n",
       "2716                      Product Designer (UX/UI)         HTML        expert   \n",
       "2717    Senior Full-stack Developer (Angular/C++)          HTML        expert   \n",
       "2718   Technical Leader / Staff Engineer (Angular)         HTML        expert   \n",
       "\n",
       "     Lokalizacja          Wypłata  \n",
       "0       warszawa  bezpłatnystaż\\n  \n",
       "1       warszawa        2800–5000  \n",
       "2       warszawa        2800–5000  \n",
       "3         krakow        2800–5000  \n",
       "4         krakow        2800–5000  \n",
       "...          ...              ...  \n",
       "2714    szczecin      18480–30240  \n",
       "2715    warszawa      12000–14000  \n",
       "2716      poznan      18000–28000  \n",
       "2717      krakow      18000–23000  \n",
       "2718      krakow   Sprawdźzarobki  \n",
       "\n",
       "[2719 rows x 5 columns]"
      ]
     },
     "execution_count": 11,
     "metadata": {},
     "output_type": "execute_result"
    }
   ],
   "source": [
    "df"
   ]
  },
  {
   "cell_type": "code",
   "execution_count": 13,
   "id": "be325193-ff54-4f25-a654-fdf1e1d30cf2",
   "metadata": {},
   "outputs": [
    {
     "data": {
      "text/plain": [
       "2719"
      ]
     },
     "execution_count": 13,
     "metadata": {},
     "output_type": "execute_result"
    }
   ],
   "source": [
    "conn = db.connect('IT_Wynagrodzenia')\n",
    "df.to_sql('IT_praca_wynagrodzenie', conn, if_exists='replace', index=True)"
   ]
  },
  {
   "cell_type": "code",
   "execution_count": 14,
   "id": "9468bb29-31ee-408f-8c66-6319f801f6ab",
   "metadata": {},
   "outputs": [],
   "source": [
    "conn.close()"
   ]
  }
 ],
 "metadata": {
  "kernelspec": {
   "display_name": "Python 3 (ipykernel)",
   "language": "python",
   "name": "python3"
  },
  "language_info": {
   "codemirror_mode": {
    "name": "ipython",
    "version": 3
   },
   "file_extension": ".py",
   "mimetype": "text/x-python",
   "name": "python",
   "nbconvert_exporter": "python",
   "pygments_lexer": "ipython3",
   "version": "3.12.4"
  }
 },
 "nbformat": 4,
 "nbformat_minor": 5
}
